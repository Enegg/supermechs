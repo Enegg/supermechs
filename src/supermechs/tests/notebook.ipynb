{
 "cells": [
  {
   "cell_type": "code",
   "execution_count": 2,
   "metadata": {},
   "outputs": [],
   "source": [
    "from supermechs.ext.deserializers.models import to_item_data\n",
    "from supermechs.platform import json_decoder\n",
    "\n",
    "with open(\"data/example_item_v2.json\") as file:\n",
    "    data = json_decoder(file.read())\n",
    "\n",
    "item = to_item_data(data, \"@Darkstare\", False)"
   ]
  },
  {
   "cell_type": "code",
   "execution_count": 3,
   "metadata": {},
   "outputs": [
    {
     "name": "stdout",
     "output_type": "stream",
     "text": [
      "{'weight': 63, 'expDmg': ValueRange(lower=213, upper=382), 'heaDmg': 112, 'expResDmg': 14, 'range': ValueRange(lower=3, upper=6), 'push': 1, 'retreat': 1, 'uses': 3, 'backfire': 180, 'heaCost': 75}\n",
      "{}\n"
     ]
    }
   ],
   "source": [
    "from supermechs.typeshed import dict_items_as\n",
    "from supermechs.item_stats import AnyStatsMapping, TransformStage, ValueRange, lerp, lerp_vector\n",
    "\n",
    "\n",
    "def at(stage: TransformStage, level: int, /) -> AnyStatsMapping:\n",
    "    \"\"\"Returns the stats at given level.\n",
    "\n",
    "    For convenience, levels follow the game logic; the lowest level is 1\n",
    "    and the maximum is a multiple of 10 depending on tier.\n",
    "    \"\"\"\n",
    "    level -= 1\n",
    "\n",
    "    if level == stage._last[0]:\n",
    "        return stage._last[1]\n",
    "\n",
    "    max_level = stage.tier.max_level\n",
    "\n",
    "    if not 0 <= level <= max_level:\n",
    "        raise ValueError(f\"Level {level} outside range 1-{max_level+1}\")\n",
    "\n",
    "    if level == 0:\n",
    "        return stage.base_stats.copy()\n",
    "\n",
    "    if level == max_level:\n",
    "        return stage.base_stats | stage.max_level_stats\n",
    "\n",
    "    weight = level / max_level\n",
    "    stats = stage.base_stats.copy()\n",
    "\n",
    "    for key, value in dict_items_as(int | ValueRange, stage.max_level_stats):\n",
    "        base_value: int | ValueRange = stats[key]\n",
    "\n",
    "        if isinstance(value, ValueRange):\n",
    "            assert isinstance(base_value, ValueRange)\n",
    "            stats[key] = lerp_vector(base_value, value, weight)\n",
    "\n",
    "        else:\n",
    "            assert not isinstance(base_value, ValueRange)\n",
    "            stats[key] = lerp(base_value, value, weight)\n",
    "\n",
    "    stage._last = (level, stats.copy())\n",
    "    return stats\n",
    "\n",
    "print(item.start_stage.base_stats)\n",
    "print(at(item.start_stage, item.start_stage.max_level))\n"
   ]
  }
 ],
 "metadata": {
  "kernelspec": {
   "display_name": ".venv",
   "language": "python",
   "name": "python3"
  },
  "language_info": {
   "codemirror_mode": {
    "name": "ipython",
    "version": 3
   },
   "file_extension": ".py",
   "mimetype": "text/x-python",
   "name": "python",
   "nbconvert_exporter": "python",
   "pygments_lexer": "ipython3",
   "version": "3.10.11"
  },
  "orig_nbformat": 4
 },
 "nbformat": 4,
 "nbformat_minor": 2
}
