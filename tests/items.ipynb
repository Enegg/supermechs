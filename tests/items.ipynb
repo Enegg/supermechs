{
 "cells": [
  {
   "cell_type": "code",
   "execution_count": 9,
   "metadata": {},
   "outputs": [],
   "source": [
    "import requests\n",
    "\n",
    "from supermechs.ext.deserializers import to_item_pack\n",
    "from supermechs.ext.platform import json_decoder\n",
    "\n",
    "with requests.get(\"https://raw.githubusercontent.com/Enegg/Item-packs/master/items.json\") as resp:\n",
    "    resp.raise_for_status()\n",
    "    data = json_decoder(resp.content)"
   ]
  },
  {
   "cell_type": "code",
   "execution_count": 12,
   "metadata": {},
   "outputs": [
    {
     "name": "stdout",
     "output_type": "stream",
     "text": [
      "PackData(key='@Eneg', name='SuperMechs', description='Item pack with stats at all tiers')\n"
     ]
    }
   ],
   "source": [
    "pack = to_item_pack(data)\n",
    "print(pack.data)"
   ]
  },
  {
   "cell_type": "code",
   "execution_count": 14,
   "metadata": {},
   "outputs": [
    {
     "name": "stdout",
     "output_type": "stream",
     "text": [
      "Item(data=ItemData(id=187, pack_key='@Eneg', name='Overcharged Rocket Battery', type=Type.SIDE_WEAPON, element=Element.EXPLOSIVE, tags=Tags(premium=True, sword=False, melee=False, roller=False, legacy=False, require_jump=True, custom=False), start_stage=TransformStage(tier=Tier.LEGENDARY, base_stats={Stat.weight: 63, Stat.explosive_damage: 103, Stat.explosive_damage_addon: 181, Stat.heat_damage: 56, Stat.explosive_resistance_damage: 9, Stat.range: 3, Stat.range_addon: 6, Stat.push: 1, Stat.retreat: 1, Stat.uses: 3, Stat.backfire: 123, Stat.heat_generation: 47}, max_changing_stats={Stat.explosive_damage: 138, Stat.explosive_damage_addon: 243, Stat.heat_damage: 75}, level_progression=[], next=TransformStage(tier=Tier.MYTHICAL, base_stats={Stat.weight: 63, Stat.explosive_damage: 154, Stat.explosive_damage_addon: 276, Stat.heat_damage: 81, Stat.explosive_resistance_damage: 14, Stat.range: 3, Stat.range_addon: 6, Stat.push: 1, Stat.retreat: 1, Stat.uses: 3, Stat.backfire: 180, Stat.heat_generation: 75}, max_changing_stats={Stat.explosive_damage: 202, Stat.explosive_damage_addon: 362, Stat.heat_damage: 106}, level_progression=[], next=TransformStage(tier=Tier.DIVINE, base_stats={Stat.weight: 63, Stat.explosive_damage: 213, Stat.explosive_damage_addon: 382, Stat.heat_damage: 112, Stat.explosive_resistance_damage: 14, Stat.range: 3, Stat.range_addon: 6, Stat.push: 1, Stat.retreat: 1, Stat.uses: 3, Stat.backfire: 180, Stat.heat_generation: 75}, max_changing_stats={}, level_progression=[], next=None)))), stage=TransformStage(tier=Tier.DIVINE, base_stats={Stat.weight: 63, Stat.explosive_damage: 213, Stat.explosive_damage_addon: 382, Stat.heat_damage: 112, Stat.explosive_resistance_damage: 14, Stat.range: 3, Stat.range_addon: 6, Stat.push: 1, Stat.retreat: 1, Stat.uses: 3, Stat.backfire: 180, Stat.heat_generation: 75}, max_changing_stats={}, level_progression=[], next=None), level=0, paint=None)\n"
     ]
    }
   ],
   "source": [
    "from supermechs.abc.item import ItemID\n",
    "from supermechs.item import Item\n",
    "\n",
    "item_data = pack.get_item(ItemID(187))\n",
    "item = Item.from_data(item_data, level=-1)\n",
    "print(repr(item))"
   ]
  }
 ],
 "metadata": {
  "kernelspec": {
   "display_name": ".venv",
   "language": "python",
   "name": "python3"
  },
  "language_info": {
   "codemirror_mode": {
    "name": "ipython",
    "version": 3
   },
   "file_extension": ".py",
   "mimetype": "text/x-python",
   "name": "python",
   "nbconvert_exporter": "python",
   "pygments_lexer": "ipython3",
   "version": "3.10.12"
  },
  "orig_nbformat": 4
 },
 "nbformat": 4,
 "nbformat_minor": 2
}
